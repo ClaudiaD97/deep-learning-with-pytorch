{
 "cells": [
  {
   "cell_type": "markdown",
   "metadata": {},
   "source": [
    "# Handling [tensors](https://pytorch.org/docs/stable/tensors.html?highlight=tensor#torch.Tensor) with PyTorch\n",
    "At its core, PyTorch is a library that provides multidimensional arrays, called tensors in\n",
    "PyTorch parlance, and an extensive library of operations on them is provided by the torch module. Both tensors and related operations can run on the CPU or GPU. The second core thing that PyTorch allows tensors to keep track of the operations performed on them and to compute derivatives of an output with respect to any of its inputs analytically via backpropagation.\n",
    "\n",
    "**Key points**\n",
    "\n",
    "- Numbers in Python are full-fledged objects.\n",
    "- Lists in Python are meant for sequential collections of objects.\n",
    "- The Python interpreter is slow compared with optimized, compiled code\n",
    "\n",
    "![memory](./images/memory.png)\n",
    "\n",
    "PyTorch tensors or NumPy arrays, on the other hand, are views over (typically) contiguous memory blocks containing unboxed C numeric types, not Python objects. So a 1D tensor of 1 million float numbers requires 4 million contiguous bytes to be stored, plus a small overhead for the metadata (dimensions, numeric type, and so on).\n",
    "\n"
   ]
  },
  {
   "cell_type": "code",
   "execution_count": null,
   "metadata": {},
   "outputs": [],
   "source": [
    "import numpy as np\n",
    "import torch\n",
    "print(torch.__version__) "
   ]
  },
  {
   "cell_type": "markdown",
   "metadata": {},
   "source": [
    "### Pytorch-Numpy interoperability"
   ]
  },
  {
   "cell_type": "code",
   "execution_count": null,
   "metadata": {},
   "outputs": [],
   "source": [
    "a_np = np.random.randn(2, 3)\n",
    "print(a_np)\n",
    "print() \n",
    "\n",
    "a = torch.tensor(a_np) # change printing precision with torch.set_printoptions()\n",
    "print(a)\n",
    "print()\n",
    "\n",
    "print(a.numpy()) # it is a view on the same storage"
   ]
  },
  {
   "cell_type": "code",
   "execution_count": null,
   "metadata": {},
   "outputs": [],
   "source": [
    "# torch.tensor() will *construct* a tensor, so it does a copy\n",
    "print(a)\n",
    "a_np[0, 0] = 77\n",
    "print(a)"
   ]
  },
  {
   "cell_type": "code",
   "execution_count": null,
   "metadata": {
    "scrolled": true
   },
   "outputs": [],
   "source": [
    "# from_numpy() won't make a copy\n",
    "# same with as_tensor()\n",
    "a_np = np.asarray([1, 2, 3])\n",
    "\n",
    "a = torch.from_numpy(a_np)\n",
    "print(a)\n",
    "a_np[0] = 44\n",
    "print(a)"
   ]
  },
  {
   "cell_type": "code",
   "execution_count": null,
   "metadata": {},
   "outputs": [],
   "source": [
    "# how to get a python number from a tensor object?\n",
    "print(a[0])\n",
    "\n",
    "num = a[0].item()\n",
    "print(num, type(num))\n",
    "\n",
    "# Of course, we cannot get a python number from an N-dim tensor, if N>0\n",
    "# a.item() # error"
   ]
  },
  {
   "cell_type": "code",
   "execution_count": null,
   "metadata": {},
   "outputs": [],
   "source": [
    "a = torch.randint(0, 10, size=(2, 1))\n",
    "b = torch.randint(0, 10, size=(2, 2))\n",
    "\n",
    "print(a)\n",
    "print(b)"
   ]
  },
  {
   "cell_type": "code",
   "execution_count": null,
   "metadata": {},
   "outputs": [],
   "source": [
    "print(\"a + b =\\n{}\".format(a + b))\n",
    "\n",
    "# about ampersand operator: https://www.python.org/dev/peps/pep-0465/\n",
    "print(\"b @ a =\\n{}\".format(b @ a))\n",
    "\n",
    "# dimensions inversion\n",
    "print(\"a.T =\\n{}\".format(a.T))\n",
    "\n",
    "# matrix transpose (https://pytorch.org/docs/stable/tensors.html#torch.Tensor.t)\n",
    "print(\"a.t() =\\n{}\".format(a.t()))"
   ]
  },
  {
   "cell_type": "code",
   "execution_count": null,
   "metadata": {},
   "outputs": [],
   "source": [
    "c = torch.randint(0, 10, size=(2, 3, 4, 5, 6))\n",
    "print(c.size())\n",
    "print(c.T.size())\n",
    "print(c.transpose(0, 2).size())\n",
    "# print(c.t().size()) # error"
   ]
  },
  {
   "cell_type": "code",
   "execution_count": null,
   "metadata": {
    "scrolled": true
   },
   "outputs": [],
   "source": [
    "# Different ways for creating a tensor - Factory Functions\n",
    "# https://pytorch.org/cppdocs/notes/tensor_creation.html#picking-a-factory-function\n",
    "\n",
    "print(torch.Tensor([[1, 0], [0, 1]]))\n",
    "print(torch.Tensor(2, 3))\n",
    "\n",
    "print(torch.empty(2, 3)) # it instatiate the storage without filling it"
   ]
  },
  {
   "cell_type": "code",
   "execution_count": null,
   "metadata": {},
   "outputs": [],
   "source": [
    "a = torch.tensor([[0, 1], [2, 467]])\n",
    "\n",
    "print(a)\n",
    "print(a.size())\n",
    "print(a.dim()) # the order of the tensor\n",
    "print(a.numel())\n",
    "print(torch.numel(a))"
   ]
  },
  {
   "cell_type": "code",
   "execution_count": null,
   "metadata": {},
   "outputs": [],
   "source": [
    "a = torch.tensor([[0, 1], [2, 467]])\n",
    "\n",
    "print(a.view(-1, 4))\n",
    "print(a.dim())\n",
    "print(a.unsqueeze(0))\n",
    "print(a.squeeze(0))\n",
    "print(a.fill_(33))"
   ]
  },
  {
   "cell_type": "code",
   "execution_count": null,
   "metadata": {},
   "outputs": [],
   "source": [
    "a.resize_(4)\n",
    "b = torch.tensor([0, 1])\n",
    "dim = 0\n",
    "\n",
    "print(a, b)\n",
    "torch.cat([a, b], dim)"
   ]
  },
  {
   "cell_type": "code",
   "execution_count": null,
   "metadata": {},
   "outputs": [],
   "source": [
    "# casting\n",
    "print(a.type())\n",
    "print(a.double())\n",
    "print(a)\n",
    "# .double()\n",
    "# .int()\n",
    "# .byte()"
   ]
  },
  {
   "cell_type": "code",
   "execution_count": null,
   "metadata": {},
   "outputs": [],
   "source": [
    "# .cpu()\n",
    "# .cuda()\n",
    "device = torch.device(\"cuda:0\" if torch.cuda.is_available() else \"cpu\")\n",
    "print('Device: {}'.format(device))"
   ]
  },
  {
   "cell_type": "code",
   "execution_count": null,
   "metadata": {},
   "outputs": [],
   "source": [
    "a = torch.ones(3)\n",
    "b = torch.ones(3)\n",
    "\n",
    "a = a.to('cuda')\n",
    "b = b.to('cuda')\n",
    "a + b"
   ]
  },
  {
   "cell_type": "code",
   "execution_count": null,
   "metadata": {},
   "outputs": [],
   "source": [
    "# sampling from a broader range of distr (in-place): use torch.empty()\n",
    "# https://pytorch.org/docs/stable/notes/serialization.html#recommend-saving-models\n",
    "torch.empty(2, 3).cauchy_()"
   ]
  },
  {
   "cell_type": "code",
   "execution_count": null,
   "metadata": {},
   "outputs": [],
   "source": []
  },
  {
   "cell_type": "markdown",
   "metadata": {},
   "source": [
    "### Resources\n",
    "\n",
    "[Official documentation](https://pytorch.org/docs/stable/index.html)\n",
    "\n",
    "[Tutorials](https://pytorch.org/tutorials/)\n",
    "\n",
    "[Nice guy talking about tensors](https://www.youtube.com/watch?v=f5liqUk0ZTw)"
   ]
  },
  {
   "cell_type": "code",
   "execution_count": null,
   "metadata": {},
   "outputs": [],
   "source": []
  }
 ],
 "metadata": {
  "kernelspec": {
   "display_name": "Python [conda env:pDL] *",
   "language": "python",
   "name": "conda-env-pDL-py"
  },
  "language_info": {
   "codemirror_mode": {
    "name": "ipython",
    "version": 3
   },
   "file_extension": ".py",
   "mimetype": "text/x-python",
   "name": "python",
   "nbconvert_exporter": "python",
   "pygments_lexer": "ipython3",
   "version": "3.8.2"
  }
 },
 "nbformat": 4,
 "nbformat_minor": 4
}
